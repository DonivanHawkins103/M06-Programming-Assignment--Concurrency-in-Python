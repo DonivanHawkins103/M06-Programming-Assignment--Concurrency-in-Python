from datetime import date

# Get the current date
today_date = date.today()

# Convert date to string format
today_date_string = today_date.strftime('%Y-%m-%d')

# Write to the file today.txt
with open('today.txt', 'w') as file:
    file.write(today_date_string)
