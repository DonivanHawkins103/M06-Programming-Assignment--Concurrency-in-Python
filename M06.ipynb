from datetime import date, datetime

# 1. Write the current date to the file today.txt
today_date = date.today()
today_date_string = today_date.strftime('%Y-%m-%d')

with open('today.txt', 'w') as file:
    file.write(today_date_string)

# 2. Read the content of today.txt into today_string
with open('today.txt', 'r') as file:
    today_string = file.read().strip()

print(today_string)

# 3. Parse the date from today_string
parsed_date = datetime.strptime(today_string, '%Y-%m-%d').date()

print(parsed_date)
