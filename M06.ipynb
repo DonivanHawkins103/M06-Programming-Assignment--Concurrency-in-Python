{
  "metadata": {
    "kernelspec": {
      "name": "python",
      "display_name": "Python (Pyodide)",
      "language": "python"
    },
    "language_info": {
      "codemirror_mode": {
        "name": "python",
        "version": 3
      },
      "file_extension": ".py",
      "mimetype": "text/x-python",
      "name": "python",
      "nbconvert_exporter": "python",
      "pygments_lexer": "ipython3",
      "version": "3.8"
    }
  },
  "nbformat_minor": 4,
  "nbformat": 4,
  "cells": [
    {
      "cell_type": "code",
      "source": "from datetime import date, datetime\n\n# 1. Write the current date to the file today.txt\ntoday_date = date.today()\ntoday_date_string = today_date.strftime('%Y-%m-%d')\n\nwith open('today.txt', 'w') as file:\n    file.write(today_date_string)\n\n# 2. Read the content of today.txt into today_string\nwith open('today.txt', 'r') as file:\n    today_string = file.read().strip()\n\nprint(today_string)\n\n# 3. Parse the date from today_string\nparsed_date = datetime.strptime(today_string, '%Y-%m-%d').date()\n\nprint(parsed_date)",
      "metadata": {
        "trusted": true
      },
      "outputs": [
        {
          "name": "stdout",
          "text": "2024-07-11\n2024-07-11\n",
          "output_type": "stream"
        }
      ],
      "execution_count": 1
    }
  ]
}